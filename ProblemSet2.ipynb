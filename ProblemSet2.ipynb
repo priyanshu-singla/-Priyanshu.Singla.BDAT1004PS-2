{
 "cells": [
  {
   "cell_type": "markdown",
   "id": "bfcec113",
   "metadata": {},
   "source": [
    "<h1 style=\"font-size:3rem;color:orange;\"> Problem Set 2 - Solutions</h1>"
   ]
  },
  {
   "cell_type": "markdown",
   "id": "21e85359",
   "metadata": {},
   "source": [
    "<h1 style=\"font-size:2.5rem;color:green;\"> Priyanshu Singla - 200522518 - Sction 4</h1>"
   ]
  },
  {
   "cell_type": "markdown",
   "id": "5e58f118",
   "metadata": {},
   "source": [
    "### Question 1 - What value is displayed when the last expresion (a) is evaluated? Explain your answer by indicating what happens in every executed statement."
   ]
  },
  {
   "cell_type": "code",
   "execution_count": 1,
   "id": "d19dfb27",
   "metadata": {},
   "outputs": [],
   "source": [
    "a = 0\n",
    "\n",
    "def b():\n",
    "    global a\n",
    "    a = c(a)\n",
    "    \n",
    "def c(a):\n",
    "    return a + 2"
   ]
  },
  {
   "cell_type": "code",
   "execution_count": 2,
   "id": "37ee2b5d",
   "metadata": {},
   "outputs": [],
   "source": [
    "b()"
   ]
  },
  {
   "cell_type": "code",
   "execution_count": 3,
   "id": "1b247ab9",
   "metadata": {},
   "outputs": [],
   "source": [
    "b()"
   ]
  },
  {
   "cell_type": "code",
   "execution_count": 4,
   "id": "62e782d3",
   "metadata": {},
   "outputs": [],
   "source": [
    "b()"
   ]
  },
  {
   "cell_type": "code",
   "execution_count": 5,
   "id": "1252c5ba",
   "metadata": {},
   "outputs": [
    {
     "name": "stdout",
     "output_type": "stream",
     "text": [
      "6\n"
     ]
    }
   ],
   "source": [
    "print(a)"
   ]
  },
  {
   "cell_type": "markdown",
   "id": "68f7f1e9",
   "metadata": {},
   "source": [
    "##### We can see that the value of \"a\" displayed is 6.\n",
    "##### Explanation - Initially when we executed the function b() for the first time, value of \"a\" was 0, since we defined it as global variable. After that when the function goes inside function c(a), it will return 0+2=2 which referes to the value of \"a\" in function b(). So now when we execute function b() for the second time, it will take value of \"a\" as 2 so, now after executing function c(a), this time it will return value 4. Similarly on executing third time, function c(a) will return 6. That's why we are getting output of 6 for variable a."
   ]
  },
  {
   "cell_type": "markdown",
   "id": "9dac6c47",
   "metadata": {},
   "source": [
    "### Question 2"
   ]
  },
  {
   "cell_type": "code",
   "execution_count": 6,
   "id": "bb1b78d5",
   "metadata": {},
   "outputs": [
    {
     "name": "stdout",
     "output_type": "stream",
     "text": [
      "1097\n"
     ]
    },
    {
     "ename": "FileNotFoundError",
     "evalue": "[Errno 2] No such file or directory: 'idterm.py'",
     "output_type": "error",
     "traceback": [
      "\u001b[1;31m---------------------------------------------------------------------------\u001b[0m",
      "\u001b[1;31mFileNotFoundError\u001b[0m                         Traceback (most recent call last)",
      "Input \u001b[1;32mIn [6]\u001b[0m, in \u001b[0;36m<cell line: 8>\u001b[1;34m()\u001b[0m\n\u001b[0;32m      5\u001b[0m     \u001b[38;5;28mprint\u001b[39m(\u001b[38;5;28mlen\u001b[39m(rd_file))\n\u001b[0;32m      7\u001b[0m fileLength(\u001b[38;5;124m\"\u001b[39m\u001b[38;5;124mmidterm.py\u001b[39m\u001b[38;5;124m\"\u001b[39m)\n\u001b[1;32m----> 8\u001b[0m \u001b[43mfileLength\u001b[49m\u001b[43m(\u001b[49m\u001b[38;5;124;43m\"\u001b[39;49m\u001b[38;5;124;43midterm.py\u001b[39;49m\u001b[38;5;124;43m\"\u001b[39;49m\u001b[43m)\u001b[49m\n",
      "Input \u001b[1;32mIn [6]\u001b[0m, in \u001b[0;36mfileLength\u001b[1;34m(python_file)\u001b[0m\n\u001b[0;32m      1\u001b[0m \u001b[38;5;28;01mdef\u001b[39;00m \u001b[38;5;21mfileLength\u001b[39m(python_file):\n\u001b[1;32m----> 2\u001b[0m     op_file \u001b[38;5;241m=\u001b[39m \u001b[38;5;28;43mopen\u001b[39;49m\u001b[43m(\u001b[49m\u001b[43mpython_file\u001b[49m\u001b[43m)\u001b[49m\n\u001b[0;32m      3\u001b[0m     rd_file \u001b[38;5;241m=\u001b[39m op_file\u001b[38;5;241m.\u001b[39mread()\n\u001b[0;32m      4\u001b[0m     op_file\u001b[38;5;241m.\u001b[39mclose()\n",
      "\u001b[1;31mFileNotFoundError\u001b[0m: [Errno 2] No such file or directory: 'idterm.py'"
     ]
    }
   ],
   "source": [
    "def fileLength(python_file):\n",
    "    op_file = open(python_file)\n",
    "    rd_file = op_file.read()\n",
    "    op_file.close()\n",
    "    print(len(rd_file))\n",
    "    \n",
    "fileLength(\"midterm.py\")\n",
    "fileLength(\"idterm.py\")"
   ]
  },
  {
   "cell_type": "code",
   "execution_count": 7,
   "id": "7bf753d8",
   "metadata": {},
   "outputs": [
    {
     "name": "stdout",
     "output_type": "stream",
     "text": [
      "1097\n",
      "File idterm.py not found.\n"
     ]
    }
   ],
   "source": [
    "def fileLength(python_file):\n",
    "    try:\n",
    "        op_file = open(python_file)\n",
    "        rd_file = op_file.read()\n",
    "        op_file.close()\n",
    "        print(len(rd_file))\n",
    "\n",
    "    except FileNotFoundError:\n",
    "        print(\"File \" + python_file + \" not found.\")\n",
    "\n",
    "fileLength(\"midterm.py\")\n",
    "fileLength(\"idterm.py\")"
   ]
  },
  {
   "cell_type": "markdown",
   "id": "0046b5cb",
   "metadata": {},
   "source": [
    "### Question 3 - Write a class named Marsupial that can be used as shown below:\n",
    "### Now write a class named Kangaroo as a subclass of Marsupial that inherits all the attributes of Marsupial and does other things as well."
   ]
  },
  {
   "cell_type": "code",
   "execution_count": 8,
   "id": "ffc9f94f",
   "metadata": {},
   "outputs": [],
   "source": [
    "class Marsupial:\n",
    "    def __init__(self):\n",
    "        \"creating empty list\"\n",
    "        self.pouch = []\n",
    "\n",
    "    def put_in_pouch(self, val):\n",
    "        self.pouch.append(val)\n",
    "\n",
    "    def pouch_contents(self):\n",
    "        print(self.pouch)\n"
   ]
  },
  {
   "cell_type": "code",
   "execution_count": 9,
   "id": "0a8e85fa",
   "metadata": {},
   "outputs": [
    {
     "name": "stdout",
     "output_type": "stream",
     "text": [
      "['doll', 'firetruck', 'kitten']\n"
     ]
    }
   ],
   "source": [
    "m = Marsupial()\n",
    "m.put_in_pouch(\"doll\")\n",
    "m.put_in_pouch(\"firetruck\")\n",
    "m.put_in_pouch(\"kitten\")\n",
    "m.pouch_contents()\n"
   ]
  },
  {
   "cell_type": "code",
   "execution_count": 10,
   "id": "fb757b8b",
   "metadata": {},
   "outputs": [],
   "source": [
    "class Kangaroo(Marsupial):\n",
    "    def __init__(self, x, y):\n",
    "        \"importing all functions from it's parent class Marsupial\"\n",
    "        super().__init__()\n",
    "        self.coordx = x\n",
    "        self.coordy = y\n",
    "\n",
    "    def jump(self, dx, dy):\n",
    "        self.coordx = self.coordx + dx\n",
    "        self.coordy = self.coordy + dy\n",
    "\n",
    "    def __str__(self):\n",
    "        print(\"I am a Kangaroo located at coordinates (%d, %d)\" %(self.coordx, self.coordy))\n",
    "        return \"\"\n"
   ]
  },
  {
   "cell_type": "code",
   "execution_count": 11,
   "id": "3984238d",
   "metadata": {},
   "outputs": [
    {
     "name": "stdout",
     "output_type": "stream",
     "text": [
      "I am a Kangaroo located at coordinates (0, 0)\n",
      "\n",
      "['doll', 'firetruck', 'kitten']\n",
      "I am a Kangaroo located at coordinates (3, 0)\n",
      "\n"
     ]
    }
   ],
   "source": [
    "k = Kangaroo(0, 0)\n",
    "print(k)\n",
    "k.put_in_pouch(\"doll\")\n",
    "k.put_in_pouch(\"firetruck\")\n",
    "k.put_in_pouch(\"kitten\")\n",
    "k.pouch_contents()\n",
    "k.jump(1, 0)\n",
    "k.jump(1, 0)\n",
    "k.jump(1, 0)\n",
    "print(k)\n"
   ]
  },
  {
   "cell_type": "markdown",
   "id": "4e997440",
   "metadata": {},
   "source": [
    "### Question 4"
   ]
  },
  {
   "cell_type": "code",
   "execution_count": 12,
   "id": "dd51e8b3",
   "metadata": {},
   "outputs": [],
   "source": [
    "initiator = \"initiated\"\n",
    "def collatz(int_num):\n",
    "    if int_num == 1:\n",
    "        print(1)\n",
    "    else:\n",
    "        global initiator\n",
    "        if initiator == \"initiated\":\n",
    "            initiator = \"not initiated\"\n",
    "            print(int_num)\n",
    "            collatz(int_num)\n",
    "        else:\n",
    "            if int_num != 1:\n",
    "                if int_num % 2 == 0:\n",
    "                    int_num = int_num / 2\n",
    "                    if int_num != 1:\n",
    "                        print(int(int_num))\n",
    "                    collatz(int_num)\n",
    "                else:\n",
    "                    int_num = 3 * int_num + 1\n",
    "                    print(int(int_num))\n",
    "                    collatz(int_num)"
   ]
  },
  {
   "cell_type": "code",
   "execution_count": 13,
   "id": "0726035e",
   "metadata": {},
   "outputs": [
    {
     "name": "stdout",
     "output_type": "stream",
     "text": [
      "1\n"
     ]
    }
   ],
   "source": [
    "collatz(1)"
   ]
  },
  {
   "cell_type": "code",
   "execution_count": 14,
   "id": "883ba048",
   "metadata": {},
   "outputs": [
    {
     "name": "stdout",
     "output_type": "stream",
     "text": [
      "10\n",
      "5\n",
      "16\n",
      "8\n",
      "4\n",
      "2\n",
      "1\n"
     ]
    }
   ],
   "source": [
    "collatz(10)"
   ]
  },
  {
   "cell_type": "markdown",
   "id": "37c9c311",
   "metadata": {},
   "source": [
    "### Question 5"
   ]
  },
  {
   "cell_type": "code",
   "execution_count": 15,
   "id": "9c5c73c4",
   "metadata": {},
   "outputs": [],
   "source": [
    "def binary(input_binary):\n",
    "    if input_binary < 0:\n",
    "        return \"Please insert positive value\"\n",
    "    if input_binary == 0:\n",
    "        return 0\n",
    "    else:\n",
    "        return (input_binary % 2 + 10 * binary(int(input_binary/2)))"
   ]
  },
  {
   "cell_type": "code",
   "execution_count": 16,
   "id": "b4261f5a",
   "metadata": {},
   "outputs": [
    {
     "data": {
      "text/plain": [
       "'Please insert positive value'"
      ]
     },
     "execution_count": 16,
     "metadata": {},
     "output_type": "execute_result"
    }
   ],
   "source": [
    "binary(-22)"
   ]
  },
  {
   "cell_type": "code",
   "execution_count": 17,
   "id": "9e0ad510",
   "metadata": {},
   "outputs": [
    {
     "data": {
      "text/plain": [
       "0"
      ]
     },
     "execution_count": 17,
     "metadata": {},
     "output_type": "execute_result"
    }
   ],
   "source": [
    "binary(0)"
   ]
  },
  {
   "cell_type": "code",
   "execution_count": 18,
   "id": "28880932",
   "metadata": {},
   "outputs": [
    {
     "data": {
      "text/plain": [
       "1"
      ]
     },
     "execution_count": 18,
     "metadata": {},
     "output_type": "execute_result"
    }
   ],
   "source": [
    "binary(1)"
   ]
  },
  {
   "cell_type": "code",
   "execution_count": 19,
   "id": "564e4899",
   "metadata": {},
   "outputs": [
    {
     "data": {
      "text/plain": [
       "11"
      ]
     },
     "execution_count": 19,
     "metadata": {},
     "output_type": "execute_result"
    }
   ],
   "source": [
    "binary(3)"
   ]
  },
  {
   "cell_type": "code",
   "execution_count": 20,
   "id": "25de1849",
   "metadata": {},
   "outputs": [
    {
     "data": {
      "text/plain": [
       "1001"
      ]
     },
     "execution_count": 20,
     "metadata": {},
     "output_type": "execute_result"
    }
   ],
   "source": [
    "binary(9)"
   ]
  },
  {
   "cell_type": "markdown",
   "id": "e426c355",
   "metadata": {},
   "source": [
    "### Question 6"
   ]
  },
  {
   "cell_type": "code",
   "execution_count": 21,
   "id": "c1db2c89",
   "metadata": {},
   "outputs": [
    {
     "name": "stdout",
     "output_type": "stream",
     "text": [
      "W3C Mission\n",
      "\n",
      "\t\n",
      " Principles\n",
      " \n",
      " \n",
      "\n",
      "\n",
      "\n",
      " \n",
      "\n"
     ]
    }
   ],
   "source": [
    "import re          \n",
    "from html.parser import HTMLParser\n",
    "infile = open('w3c.html') \n",
    "content = infile.read() \n",
    "infile.close()\n",
    "\n",
    "class HeadingParser(HTMLParser):\n",
    "\n",
    "    def handle_starttag(self, tag, attrs):\n",
    "        global val\n",
    "        match = re.match(r'h(\\d)', tag, re.I) \n",
    "        if match: val = int(match.group(1))\n",
    "            \n",
    "    def handle_endtag(self, tag):\n",
    "        match = re.match(r'h(\\d)', tag, re.I)\n",
    "        if match: val = 0\n",
    "\n",
    "    def handle_data(self, data):\n",
    "        if val > 0:\n",
    "            tab = val - 1\n",
    "            out = \" \"*tab\n",
    "            print(out+data)\n",
    "            \n",
    "val = 0\n",
    "hp = HeadingParser()\n",
    "hp.feed(content)"
   ]
  },
  {
   "cell_type": "markdown",
   "id": "b4c27246",
   "metadata": {},
   "source": [
    "### Question 7"
   ]
  },
  {
   "cell_type": "code",
   "execution_count": 22,
   "id": "1f0319b3",
   "metadata": {},
   "outputs": [
    {
     "name": "stdout",
     "output_type": "stream",
     "text": [
      "http://reed.cs.depaul.edu/lperkovic/csc242/test1.html\n"
     ]
    }
   ],
   "source": [
    "import requests\n",
    "from bs4 import BeautifulSoup   \n",
    "\n",
    "def webdir(url, depth, indent):\n",
    "    resp = requests.get(url)\n",
    "    print(url)\n",
    "    if(depth == indent):\n",
    "        return\n",
    "    soup = BeautifulSoup(resp.text, 'html.parser')  \n",
    "    for link in soup.findAll('a'):\n",
    "        new_link = link.get('href')\n",
    "        if(new_link.startswith('https')):\n",
    "            webdir(new_link, depth, indent+1)\n",
    "\n",
    "webdir('http://reed.cs.depaul.edu/lperkovic/csc242/test1.html', 2, 0)\n",
    "\n",
    "# link is giving Error 404"
   ]
  },
  {
   "cell_type": "markdown",
   "id": "2a4e6af0",
   "metadata": {},
   "source": [
    "### Question 8"
   ]
  },
  {
   "cell_type": "code",
   "execution_count": 23,
   "id": "6a0c78ea",
   "metadata": {},
   "outputs": [],
   "source": [
    "import sqlite3\n",
    "con = sqlite3.connect(\"weather.db\")"
   ]
  },
  {
   "cell_type": "code",
   "execution_count": 24,
   "id": "c1c268af",
   "metadata": {},
   "outputs": [],
   "source": [
    "cur = con.cursor()\n",
    "cur.execute(\"create table WEATHER (City text, Country text, Season text, Temperature float, Rainfall float)\")\n",
    "\n",
    "weather_list = [\n",
    "    (\"Mumbai\", \"India\", \"Winter\", 24.8, 5.9),\n",
    "    (\"Mumbai\", \"India\", \"Spring\", 28.4, 16.2),\n",
    "    (\"Mumbai\", \"India\", \"Summer\", 27.9, 1549.4),\n",
    "    (\"Mumbai\", \"India\", \"Fall\", 27.6, 346.0),\n",
    "    (\"London\", \"United Kingdom\", \"Winter\", 4.2, 207.7),\n",
    "    (\"London\", \"United Kingdom\", \"Spring\", 8.3, 169.6),\n",
    "    (\"London\", \"United Kingdom\", \"Summer\", 15.7, 157.0),\n",
    "    (\"London\", \"United Kingdom\", \"Fall\", 10.4, 218.5),\n",
    "    (\"Cairo\", \"Egypt\", \"Winter\", 13.6, 16.5),\n",
    "    (\"Cairo\", \"Egypt\", \"Spring\", 20.7, 6.5),\n",
    "    (\"Cairo\", \"Egypt\", \"Summer\", 27.7, 0.1),\n",
    "    (\"Cairo\", \"Egypt\", \"Fall\", 22.2, 4.5)\n",
    "]\n",
    "\n",
    "cur.executemany(\"insert into WEATHER values (?, ?, ?, ?, ?)\", weather_list)\n",
    "con.commit()"
   ]
  },
  {
   "cell_type": "markdown",
   "id": "e5a28ce4",
   "metadata": {},
   "source": [
    "#### a) All the temperature data"
   ]
  },
  {
   "cell_type": "code",
   "execution_count": 25,
   "id": "d283348f",
   "metadata": {},
   "outputs": [
    {
     "name": "stdout",
     "output_type": "stream",
     "text": [
      "[(24.8,), (28.4,), (27.9,), (27.6,), (4.2,), (8.3,), (15.7,), (10.4,), (13.6,), (20.7,), (27.7,), (22.2,)]\n"
     ]
    }
   ],
   "source": [
    "cur.execute(\"select Temperature from WEATHER\")\n",
    "print(cur.fetchall())\n",
    "\n",
    "# for t in cur:\n",
    "#     print(t)"
   ]
  },
  {
   "cell_type": "markdown",
   "id": "e7ce5af5",
   "metadata": {},
   "source": [
    "#### b) All the cities, but without repetition"
   ]
  },
  {
   "cell_type": "code",
   "execution_count": 26,
   "id": "f45ab2a4",
   "metadata": {},
   "outputs": [
    {
     "name": "stdout",
     "output_type": "stream",
     "text": [
      "[('Mumbai',), ('London',), ('Cairo',)]\n"
     ]
    }
   ],
   "source": [
    "cur.execute(\"select distinct City from WEATHER\")\n",
    "print(cur.fetchall())\n",
    "\n",
    "# for c in cur:\n",
    "#     print(c)"
   ]
  },
  {
   "cell_type": "markdown",
   "id": "24fdc746",
   "metadata": {},
   "source": [
    "#### c) All the records for India"
   ]
  },
  {
   "cell_type": "code",
   "execution_count": 27,
   "id": "49c05982",
   "metadata": {},
   "outputs": [
    {
     "name": "stdout",
     "output_type": "stream",
     "text": [
      "('Mumbai', 'India', 'Winter', 24.8, 5.9)\n",
      "('Mumbai', 'India', 'Spring', 28.4, 16.2)\n",
      "('Mumbai', 'India', 'Summer', 27.9, 1549.4)\n",
      "('Mumbai', 'India', 'Fall', 27.6, 346.0)\n"
     ]
    }
   ],
   "source": [
    "cur.execute(\"select * from WEATHER where Country='India'\")\n",
    "for ind in cur:\n",
    "    print(ind)"
   ]
  },
  {
   "cell_type": "markdown",
   "id": "736c01c7",
   "metadata": {},
   "source": [
    "#### d) All the fall records"
   ]
  },
  {
   "cell_type": "code",
   "execution_count": 28,
   "id": "e987eb90",
   "metadata": {},
   "outputs": [
    {
     "name": "stdout",
     "output_type": "stream",
     "text": [
      "('Mumbai', 'India', 'Fall', 27.6, 346.0)\n",
      "('London', 'United Kingdom', 'Fall', 10.4, 218.5)\n",
      "('Cairo', 'Egypt', 'Fall', 22.2, 4.5)\n"
     ]
    }
   ],
   "source": [
    "cur.execute(\"select * from WEATHER where Season='Fall'\")\n",
    "for fall in cur:\n",
    "    print(fall)"
   ]
  },
  {
   "cell_type": "markdown",
   "id": "b90f6e69",
   "metadata": {},
   "source": [
    "#### e) The city, country, and season for which the average rainfall is between 200 and 400 millimeters."
   ]
  },
  {
   "cell_type": "code",
   "execution_count": 29,
   "id": "56158bab",
   "metadata": {},
   "outputs": [
    {
     "name": "stdout",
     "output_type": "stream",
     "text": [
      "('London', 'United Kingdom', 'Winter', 207.7)\n",
      "('London', 'United Kingdom', 'Fall', 218.5)\n",
      "('Mumbai', 'India', 'Fall', 346.0)\n"
     ]
    }
   ],
   "source": [
    "cur.execute(\"select  City, Country, Season, AVG(Rainfall) from WEATHER group by Rainfall having avg(Rainfall) between 200 and 400;\")\n",
    "for avg in cur:\n",
    "    print(avg)"
   ]
  },
  {
   "cell_type": "markdown",
   "id": "8bba11ec",
   "metadata": {},
   "source": [
    "#### f) The city and country for which the average Fall temperature is above 20 degrees, in increasing temperature order."
   ]
  },
  {
   "cell_type": "code",
   "execution_count": 30,
   "id": "88886c2c",
   "metadata": {},
   "outputs": [
    {
     "name": "stdout",
     "output_type": "stream",
     "text": [
      "('Cairo', 'Egypt', 22.2)\n",
      "('Mumbai', 'India', 27.6)\n"
     ]
    }
   ],
   "source": [
    "cur.execute(\"select City, Country, avg(Temperature) from WEATHER where Season = 'Fall' group by Temperature having avg(Temperature) > 20\")\n",
    "for avg in cur:\n",
    "    print(avg)"
   ]
  },
  {
   "cell_type": "markdown",
   "id": "fd4266ff",
   "metadata": {},
   "source": [
    "#### g) The total annual rainfall for Cairo."
   ]
  },
  {
   "cell_type": "code",
   "execution_count": 31,
   "id": "2b2a1a1c",
   "metadata": {},
   "outputs": [
    {
     "name": "stdout",
     "output_type": "stream",
     "text": [
      "('Cairo', 27.6)\n"
     ]
    }
   ],
   "source": [
    "cur.execute(\"select City, sum(Rainfall) from WEATHER where City='Cairo'\")\n",
    "for rain in cur:\n",
    "    print(rain)"
   ]
  },
  {
   "cell_type": "markdown",
   "id": "48087710",
   "metadata": {},
   "source": [
    "#### h) The total rainfall for each season."
   ]
  },
  {
   "cell_type": "code",
   "execution_count": 32,
   "id": "f42778ad",
   "metadata": {},
   "outputs": [
    {
     "name": "stdout",
     "output_type": "stream",
     "text": [
      "('Fall', 569.0)\n",
      "('Spring', 192.29999999999998)\n",
      "('Summer', 1706.5)\n",
      "('Winter', 230.1)\n"
     ]
    }
   ],
   "source": [
    "cur.execute(\"select Season, sum(Rainfall) from WEATHER group by Season\")\n",
    "for rain in cur:\n",
    "    print(rain)"
   ]
  },
  {
   "cell_type": "markdown",
   "id": "ecd9edda",
   "metadata": {},
   "source": [
    "### Question 9"
   ]
  },
  {
   "cell_type": "code",
   "execution_count": 33,
   "id": "c2edb3d8",
   "metadata": {},
   "outputs": [],
   "source": [
    "words = [\"The\", \"quick\", \"brown\", \"fox\", \"jumps\", \"over\", \"the\", \"lazy\", \"dog\"]"
   ]
  },
  {
   "cell_type": "markdown",
   "id": "0a736057",
   "metadata": {},
   "source": [
    "#### a) Upper Case"
   ]
  },
  {
   "cell_type": "code",
   "execution_count": 34,
   "id": "a197d92a",
   "metadata": {},
   "outputs": [
    {
     "name": "stdout",
     "output_type": "stream",
     "text": [
      "['THE', 'QUICK', 'BROWN', 'FOX', 'JUMPS', 'OVER', 'THE', 'LAZY', 'DOG']\n"
     ]
    }
   ],
   "source": [
    "upper_words = []\n",
    "for val in words:\n",
    "    upper_val = val.upper()\n",
    "    upper_words.append(upper_val)\n",
    "\n",
    "print(upper_words)"
   ]
  },
  {
   "cell_type": "markdown",
   "id": "d5694bff",
   "metadata": {},
   "source": [
    "#### Lower Case"
   ]
  },
  {
   "cell_type": "code",
   "execution_count": 35,
   "id": "be317387",
   "metadata": {},
   "outputs": [
    {
     "name": "stdout",
     "output_type": "stream",
     "text": [
      "['the', 'quick', 'brown', 'fox', 'jumps', 'over', 'the', 'lazy', 'dog']\n"
     ]
    }
   ],
   "source": [
    "lower_words = []\n",
    "for val in words:\n",
    "    lower_val = val.lower()\n",
    "    lower_words.append(lower_val)\n",
    "\n",
    "print(lower_words)"
   ]
  },
  {
   "cell_type": "markdown",
   "id": "40f1fa18",
   "metadata": {},
   "source": [
    "#### c) The list of length of words in list words"
   ]
  },
  {
   "cell_type": "code",
   "execution_count": 36,
   "id": "4b74c85e",
   "metadata": {},
   "outputs": [
    {
     "name": "stdout",
     "output_type": "stream",
     "text": [
      "[3, 5, 5, 3, 5, 4, 3, 4, 3]\n"
     ]
    }
   ],
   "source": [
    "length_words = []\n",
    "for val in words:\n",
    "    length_words.append(len(val))     \n",
    "print(length_words)"
   ]
  },
  {
   "cell_type": "markdown",
   "id": "1a025fdc",
   "metadata": {},
   "source": [
    "#### d) the list containing a list for every word of list words, where each list contains the word in uppercase and lowercase and the length of the word"
   ]
  },
  {
   "cell_type": "code",
   "execution_count": 37,
   "id": "0759e304",
   "metadata": {},
   "outputs": [
    {
     "name": "stdout",
     "output_type": "stream",
     "text": [
      "[['THE', 'the', 3], ['QUICK', 'quick', 5], ['BROWN', 'brown', 5], ['FOX', 'fox', 3], ['JUMPS', 'jumps', 5], ['OVER', 'over', 4], ['THE', 'the', 3], ['LAZY', 'lazy', 4], ['DOG', 'dog', 3]]\n"
     ]
    }
   ],
   "source": [
    "count = 0\n",
    "single_lst = []\n",
    "    \n",
    "for val in words:\n",
    "    single_lst.append(upper_words[count])\n",
    "    single_lst.append(lower_words[count])\n",
    "    single_lst.append(length_words[count])\n",
    "    count += 1\n",
    "\n",
    "var = 3\n",
    "final_lst = [single_lst[x:x+var] for x in range(0, len(single_lst), var)]\n",
    "\n",
    "print(final_lst)"
   ]
  },
  {
   "cell_type": "markdown",
   "id": "1f6423f7",
   "metadata": {},
   "source": [
    "#### e) the list of words in list words containing 4 or more characters"
   ]
  },
  {
   "cell_type": "code",
   "execution_count": 38,
   "id": "ee17974a",
   "metadata": {},
   "outputs": [
    {
     "name": "stdout",
     "output_type": "stream",
     "text": [
      "['quick', 'brown', 'jumps', 'over', 'lazy']\n"
     ]
    }
   ],
   "source": [
    "words = [\"The\", \"quick\", \"brown\", \"fox\", \"jumps\", \"over\", \"the\", \"lazy\", \"dog\"]\n",
    "count_4_lst = []\n",
    "for val in words:\n",
    "    count = 0\n",
    "    if len(val) >= 4:\n",
    "        count_4_lst.append(val)\n",
    "    count = count + 1\n",
    "print(count_4_lst)"
   ]
  }
 ],
 "metadata": {
  "kernelspec": {
   "display_name": "Python 3 (ipykernel)",
   "language": "python",
   "name": "python3"
  },
  "language_info": {
   "codemirror_mode": {
    "name": "ipython",
    "version": 3
   },
   "file_extension": ".py",
   "mimetype": "text/x-python",
   "name": "python",
   "nbconvert_exporter": "python",
   "pygments_lexer": "ipython3",
   "version": "3.9.12"
  }
 },
 "nbformat": 4,
 "nbformat_minor": 5
}
